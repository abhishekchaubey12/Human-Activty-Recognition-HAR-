{
 "cells": [
  {
   "cell_type": "code",
   "execution_count": 1,
   "id": "41423e8f",
   "metadata": {},
   "outputs": [],
   "source": [
    "import tensorflow as tf\n",
    "from tensorflow.keras.preprocessing.image import ImageDataGenerator"
   ]
  },
  {
   "cell_type": "code",
   "execution_count": 2,
   "id": "f738a34d",
   "metadata": {},
   "outputs": [],
   "source": [
    "# Part 1 - Data Preprocessing\n",
    "\n",
    "# Preprocessing the Training set\n",
    "train_datagen = ImageDataGenerator(rescale = 1./255,\n",
    "                                   shear_range = 0.2,\n",
    "                                   zoom_range = 0.2,\n",
    "                                   horizontal_flip = True)"
   ]
  },
  {
   "cell_type": "code",
   "execution_count": 3,
   "id": "a62a1322",
   "metadata": {},
   "outputs": [
    {
     "name": "stdout",
     "output_type": "stream",
     "text": [
      "Found 7480 images belonging to 2 classes.\n",
      "Found 7480 images belonging to 2 classes.\n"
     ]
    }
   ],
   "source": [
    "training_set = train_datagen.flow_from_directory(r\"C:\\Users\\Abhishek Chaubey\\Documents\\DancingFramework\",\n",
    "                                                 target_size = (64, 64),\n",
    "                                                 batch_size = 32,\n",
    "                                                 class_mode = 'binary')\n",
    "\n",
    "# Preprocessing the Test set\n",
    "test_datagen = ImageDataGenerator(rescale = 1./255)\n",
    "test_set = test_datagen.flow_from_directory(r\"C:\\Users\\Abhishek Chaubey\\Documents\\DancingFramework\",\n",
    "                                            target_size = (64, 64),\n",
    "                                            batch_size = 32,\n",
    "                                            class_mode = 'binary')"
   ]
  },
  {
   "cell_type": "code",
   "execution_count": 4,
   "id": "fe87ed40",
   "metadata": {},
   "outputs": [],
   "source": [
    "from tensorflow.keras.layers import Conv2D\n",
    "from tensorflow.keras.layers import Dense"
   ]
  },
  {
   "cell_type": "code",
   "execution_count": 5,
   "id": "67c46fb3",
   "metadata": {},
   "outputs": [],
   "source": [
    "from tensorflow.keras.regularizers import l2"
   ]
  },
  {
   "cell_type": "code",
   "execution_count": 6,
   "id": "5d0b6e19",
   "metadata": {},
   "outputs": [],
   "source": [
    "# Part 2 - Building the CNN\n",
    "# Initialising the CNN\n",
    "cnn = tf.keras.models.Sequential()\n",
    "\n",
    "# Step 1 - Convolution\n",
    "cnn.add(tf.keras.layers.Conv2D(filters=32,padding=\"same\",kernel_size=3, activation='relu', strides=2, input_shape=[64, 64, 3]))\n",
    "\n",
    "# Step 2 - Pooling\n",
    "cnn.add(tf.keras.layers.MaxPool2D(pool_size=2, strides=2))\n",
    "\n",
    "# Adding a second convolutional layer\n",
    "cnn.add(tf.keras.layers.Conv2D(filters=32,padding='same',kernel_size=3, activation='relu'))\n",
    "cnn.add(tf.keras.layers.MaxPool2D(pool_size=2, strides=2))\n",
    "\n",
    "# Step 3 - Flattening\n",
    "cnn.add(tf.keras.layers.Flatten())\n",
    "\n",
    "# Step 4 - Full Connection\n",
    "cnn.add(tf.keras.layers.Dense(units=128, activation='relu'))\n",
    "\n",
    "# Step 5 - Output Layer\n",
    "#cnn.add(tf.keras.layers.Dense(units=1, activation='sigmoid'))\n",
    "## For Binary Classification\n",
    "cnn.add(Dense(1, kernel_regularizer=tf.keras.regularizers.l2(0.01),activation\n",
    "             ='linear'))"
   ]
  },
  {
   "cell_type": "code",
   "execution_count": 7,
   "id": "e5b80cb8",
   "metadata": {},
   "outputs": [
    {
     "name": "stdout",
     "output_type": "stream",
     "text": [
      "Model: \"sequential\"\n",
      "_________________________________________________________________\n",
      " Layer (type)                Output Shape              Param #   \n",
      "=================================================================\n",
      " conv2d (Conv2D)             (None, 32, 32, 32)        896       \n",
      "                                                                 \n",
      " max_pooling2d (MaxPooling2D  (None, 16, 16, 32)       0         \n",
      " )                                                               \n",
      "                                                                 \n",
      " conv2d_1 (Conv2D)           (None, 16, 16, 32)        9248      \n",
      "                                                                 \n",
      " max_pooling2d_1 (MaxPooling  (None, 8, 8, 32)         0         \n",
      " 2D)                                                             \n",
      "                                                                 \n",
      " flatten (Flatten)           (None, 2048)              0         \n",
      "                                                                 \n",
      " dense (Dense)               (None, 128)               262272    \n",
      "                                                                 \n",
      " dense_1 (Dense)             (None, 1)                 129       \n",
      "                                                                 \n",
      "=================================================================\n",
      "Total params: 272,545\n",
      "Trainable params: 272,545\n",
      "Non-trainable params: 0\n",
      "_________________________________________________________________\n"
     ]
    }
   ],
   "source": [
    "cnn.summary()"
   ]
  },
  {
   "cell_type": "code",
   "execution_count": 8,
   "id": "09813e6c",
   "metadata": {},
   "outputs": [
    {
     "name": "stdout",
     "output_type": "stream",
     "text": [
      "Epoch 1/15\n",
      "234/234 [==============================] - 228s 961ms/step - loss: 0.6977 - accuracy: 0.6900 - val_loss: 0.5632 - val_accuracy: 0.7557\n",
      "Epoch 2/15\n",
      "234/234 [==============================] - 37s 159ms/step - loss: 0.5388 - accuracy: 0.7626 - val_loss: 0.5715 - val_accuracy: 0.8102\n",
      "Epoch 3/15\n",
      "234/234 [==============================] - 37s 159ms/step - loss: 0.4503 - accuracy: 0.7997 - val_loss: 0.4100 - val_accuracy: 0.8106\n",
      "Epoch 4/15\n",
      "234/234 [==============================] - 43s 183ms/step - loss: 0.3628 - accuracy: 0.8310 - val_loss: 0.2998 - val_accuracy: 0.8611\n",
      "Epoch 5/15\n",
      "234/234 [==============================] - 37s 159ms/step - loss: 0.3087 - accuracy: 0.8579 - val_loss: 0.2715 - val_accuracy: 0.8786\n",
      "Epoch 6/15\n",
      "234/234 [==============================] - 37s 159ms/step - loss: 0.2516 - accuracy: 0.8908 - val_loss: 0.2199 - val_accuracy: 0.9199\n",
      "Epoch 7/15\n",
      "234/234 [==============================] - 38s 161ms/step - loss: 0.2244 - accuracy: 0.9051 - val_loss: 0.1839 - val_accuracy: 0.9257\n",
      "Epoch 8/15\n",
      "234/234 [==============================] - 38s 161ms/step - loss: 0.1889 - accuracy: 0.9251 - val_loss: 0.1711 - val_accuracy: 0.9329\n",
      "Epoch 9/15\n",
      "234/234 [==============================] - 38s 161ms/step - loss: 0.1597 - accuracy: 0.9370 - val_loss: 0.1921 - val_accuracy: 0.9215\n",
      "Epoch 10/15\n",
      "234/234 [==============================] - 38s 164ms/step - loss: 0.1458 - accuracy: 0.9436 - val_loss: 0.1034 - val_accuracy: 0.9606\n",
      "Epoch 11/15\n",
      "234/234 [==============================] - 38s 161ms/step - loss: 0.1316 - accuracy: 0.9493 - val_loss: 0.0955 - val_accuracy: 0.9622\n",
      "Epoch 12/15\n",
      "234/234 [==============================] - 38s 161ms/step - loss: 0.1133 - accuracy: 0.9604 - val_loss: 0.1354 - val_accuracy: 0.9356\n",
      "Epoch 13/15\n",
      "234/234 [==============================] - 38s 161ms/step - loss: 0.1148 - accuracy: 0.9586 - val_loss: 0.0951 - val_accuracy: 0.9726\n",
      "Epoch 14/15\n",
      "234/234 [==============================] - 38s 162ms/step - loss: 0.1009 - accuracy: 0.9648 - val_loss: 0.1071 - val_accuracy: 0.9505\n",
      "Epoch 15/15\n",
      "234/234 [==============================] - 38s 162ms/step - loss: 0.0891 - accuracy: 0.9710 - val_loss: 0.1061 - val_accuracy: 0.9461\n"
     ]
    }
   ],
   "source": [
    "# Part 3 - Training the CNN\n",
    "\n",
    "# Compiling the CNN\n",
    "cnn.compile(optimizer = 'adam', loss = 'hinge', metrics = ['accuracy'])\n",
    "\n",
    "# Training the CNN on the Training set and evaluating it on the Test set\n",
    "r=cnn.fit(x = training_set, validation_data = test_set, epochs = 15)"
   ]
  },
  {
   "cell_type": "code",
   "execution_count": 10,
   "id": "06a5794a",
   "metadata": {},
   "outputs": [
    {
     "data": {
      "image/png": "[encoded data removed]",
      "text/plain": [
       "<Figure size 432x288 with 1 Axes>"
      ]
     },
     "metadata": {
      "needs_background": "light"
     },
     "output_type": "display_data"
    },
    {
     "data": {
      "image/png": "[encoded data removed]",
      "text/plain": [
       "<Figure size 432x288 with 1 Axes>"
      ]
     },
     "metadata": {
      "needs_background": "light"
     },
     "output_type": "display_data"
    },
    {
     "data": {
      "text/plain": [
       "<Figure size 432x288 with 0 Axes>"
      ]
     },
     "metadata": {},
     "output_type": "display_data"
    }
   ],
   "source": [
    "# plot the loss\n",
    "import matplotlib.pyplot as plt\n",
    "plt.plot(r.history['loss'], label='train loss', color='lightcoral', marker='D', markeredgecolor='black')\n",
    "plt.plot(r.history['val_loss'], label='val loss', color='#4b0082', linewidth=4,\n",
    "         marker='h', markerfacecolor='lightgreen', markeredgewidth=2,\n",
    "         markersize=12, markevery=3)\n",
    "plt.legend()\n",
    "plt.show()\n",
    "plt.savefig('LossVal_loss')\n",
    "\n",
    "# plot the accuracy\n",
    "plt.plot(r.history['accuracy'], label='train acc', color='lightcoral', marker='D', markeredgecolor='black')\n",
    "plt.plot(r.history['val_accuracy'], label='val acc', color='#4b0082', linewidth=4,\n",
    "         marker='h', markerfacecolor='lightgreen', markeredgewidth=2,\n",
    "         markersize=12, markevery=3)\n",
    "plt.legend()\n",
    "plt.show()\n",
    "plt.savefig('AccVal_acc')"
   ]
  },
  {
   "cell_type": "code",
   "execution_count": null,
   "id": "77b239ef",
   "metadata": {},
   "outputs": [],
   "source": []
  }
 ],
 "metadata": {
  "kernelspec": {
   "display_name": "Python 3 (ipykernel)",
   "language": "python",
   "name": "python3"
  },
  "language_info": {
   "codemirror_mode": {
    "name": "ipython",
    "version": 3
   },
   "file_extension": ".py",
   "mimetype": "text/x-python",
   "name": "python",
   "nbconvert_exporter": "python",
   "pygments_lexer": "ipython3",
   "version": "3.9.7"
  }
 },
 "nbformat": 4,
 "nbformat_minor": 5
}
