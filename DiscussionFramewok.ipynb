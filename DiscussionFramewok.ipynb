{
 "cells": [
  {
   "cell_type": "code",
   "execution_count": 1,
   "id": "471adcfb",
   "metadata": {},
   "outputs": [],
   "source": [
    "import tensorflow as tf\n",
    "from tensorflow.keras.preprocessing.image import ImageDataGenerator"
   ]
  },
  {
   "cell_type": "code",
   "execution_count": 2,
   "id": "6e27615b",
   "metadata": {},
   "outputs": [],
   "source": [
    "# Part 1 - Data Preprocessing\n",
    "\n",
    "# Preprocessing the Training set\n",
    "train_datagen = ImageDataGenerator(rescale = 1./255,\n",
    "                                   shear_range = 0.2,\n",
    "                                   zoom_range = 0.2,\n",
    "                                   horizontal_flip = True)"
   ]
  },
  {
   "cell_type": "code",
   "execution_count": 3,
   "id": "58c9096f",
   "metadata": {},
   "outputs": [
    {
     "name": "stdout",
     "output_type": "stream",
     "text": [
      "Found 7480 images belonging to 2 classes.\n",
      "Found 7480 images belonging to 2 classes.\n"
     ]
    }
   ],
   "source": [
    "training_set = train_datagen.flow_from_directory(r\"C:\\Users\\Abhishek Chaubey\\Documents\\DiscussionFramework\",\n",
    "                                                 target_size = (64, 64),\n",
    "                                                 batch_size = 32,\n",
    "                                                 class_mode = 'binary')\n",
    "\n",
    "# Preprocessing the Test set\n",
    "test_datagen = ImageDataGenerator(rescale = 1./255)\n",
    "test_set = test_datagen.flow_from_directory(r\"C:\\Users\\Abhishek Chaubey\\Documents\\DiscussionFramework\",\n",
    "                                            target_size = (64, 64),\n",
    "                                            batch_size = 32,\n",
    "                                            class_mode = 'binary')"
   ]
  },
  {
   "cell_type": "code",
   "execution_count": 4,
   "id": "e45462fe",
   "metadata": {},
   "outputs": [],
   "source": [
    "from tensorflow.keras.layers import Conv2D\n",
    "from tensorflow.keras.layers import Dense"
   ]
  },
  {
   "cell_type": "code",
   "execution_count": 5,
   "id": "137d079b",
   "metadata": {},
   "outputs": [],
   "source": [
    "from tensorflow.keras.regularizers import l2"
   ]
  },
  {
   "cell_type": "code",
   "execution_count": 6,
   "id": "efd5003f",
   "metadata": {},
   "outputs": [],
   "source": [
    "# Part 2 - Building the CNN\n",
    "# Initialising the CNN\n",
    "cnn = tf.keras.models.Sequential()\n",
    "\n",
    "# Step 1 - Convolution\n",
    "cnn.add(tf.keras.layers.Conv2D(filters=32,padding=\"same\",kernel_size=3, activation='relu', strides=2, input_shape=[64, 64, 3]))\n",
    "\n",
    "# Step 2 - Pooling\n",
    "cnn.add(tf.keras.layers.MaxPool2D(pool_size=2, strides=2))\n",
    "\n",
    "# Adding a second convolutional layer\n",
    "cnn.add(tf.keras.layers.Conv2D(filters=32,padding='same',kernel_size=3, activation='relu'))\n",
    "cnn.add(tf.keras.layers.MaxPool2D(pool_size=2, strides=2))\n",
    "\n",
    "# Step 3 - Flattening\n",
    "cnn.add(tf.keras.layers.Flatten())\n",
    "\n",
    "# Step 4 - Full Connection\n",
    "cnn.add(tf.keras.layers.Dense(units=128, activation='relu'))\n",
    "\n",
    "# Step 5 - Output Layer\n",
    "#cnn.add(tf.keras.layers.Dense(units=1, activation='sigmoid'))\n",
    "## For Binary Classification\n",
    "cnn.add(Dense(1, kernel_regularizer=tf.keras.regularizers.l2(0.01),activation\n",
    "             ='linear'))"
   ]
  },
  {
   "cell_type": "code",
   "execution_count": 7,
   "id": "9b5a8862",
   "metadata": {},
   "outputs": [
    {
     "name": "stdout",
     "output_type": "stream",
     "text": [
      "Model: \"sequential\"\n",
      "_________________________________________________________________\n",
      " Layer (type)                Output Shape              Param #   \n",
      "=================================================================\n",
      " conv2d (Conv2D)             (None, 32, 32, 32)        896       \n",
      "                                                                 \n",
      " max_pooling2d (MaxPooling2D  (None, 16, 16, 32)       0         \n",
      " )                                                               \n",
      "                                                                 \n",
      " conv2d_1 (Conv2D)           (None, 16, 16, 32)        9248      \n",
      "                                                                 \n",
      " max_pooling2d_1 (MaxPooling  (None, 8, 8, 32)         0         \n",
      " 2D)                                                             \n",
      "                                                                 \n",
      " flatten (Flatten)           (None, 2048)              0         \n",
      "                                                                 \n",
      " dense (Dense)               (None, 128)               262272    \n",
      "                                                                 \n",
      " dense_1 (Dense)             (None, 1)                 129       \n",
      "                                                                 \n",
      "=================================================================\n",
      "Total params: 272,545\n",
      "Trainable params: 272,545\n",
      "Non-trainable params: 0\n",
      "_________________________________________________________________\n"
     ]
    }
   ],
   "source": [
    "cnn.summary()"
   ]
  },
  {
   "cell_type": "code",
   "execution_count": 8,
   "id": "58f28763",
   "metadata": {},
   "outputs": [
    {
     "name": "stdout",
     "output_type": "stream",
     "text": [
      "Epoch 1/15\n",
      "234/234 [==============================] - 341s 1s/step - loss: 0.9554 - accuracy: 0.5381 - val_loss: 0.7638 - val_accuracy: 0.6583\n",
      "Epoch 2/15\n",
      "234/234 [==============================] - 39s 165ms/step - loss: 0.7277 - accuracy: 0.6496 - val_loss: 0.7362 - val_accuracy: 0.7057\n",
      "Epoch 3/15\n",
      "234/234 [==============================] - 39s 167ms/step - loss: 0.6097 - accuracy: 0.7184 - val_loss: 0.6532 - val_accuracy: 0.7381\n",
      "Epoch 4/15\n",
      "234/234 [==============================] - 75s 322ms/step - loss: 0.5772 - accuracy: 0.7330 - val_loss: 0.6015 - val_accuracy: 0.7676\n",
      "Epoch 5/15\n",
      "234/234 [==============================] - 76s 323ms/step - loss: 0.5402 - accuracy: 0.7520 - val_loss: 0.5725 - val_accuracy: 0.7817\n",
      "Epoch 6/15\n",
      "234/234 [==============================] - 71s 304ms/step - loss: 0.4867 - accuracy: 0.7794 - val_loss: 0.6921 - val_accuracy: 0.7672\n",
      "Epoch 7/15\n",
      "234/234 [==============================] - 73s 310ms/step - loss: 0.4654 - accuracy: 0.7886 - val_loss: 0.4873 - val_accuracy: 0.8156\n",
      "Epoch 8/15\n",
      "234/234 [==============================] - 73s 313ms/step - loss: 0.4264 - accuracy: 0.8120 - val_loss: 0.4408 - val_accuracy: 0.8389\n",
      "Epoch 9/15\n",
      "234/234 [==============================] - 73s 311ms/step - loss: 0.3982 - accuracy: 0.8246 - val_loss: 0.3608 - val_accuracy: 0.8602\n",
      "Epoch 10/15\n",
      "234/234 [==============================] - 77s 331ms/step - loss: 0.3744 - accuracy: 0.8394 - val_loss: 0.4729 - val_accuracy: 0.8259\n",
      "Epoch 11/15\n",
      "234/234 [==============================] - 74s 315ms/step - loss: 0.3439 - accuracy: 0.8503 - val_loss: 0.4237 - val_accuracy: 0.8615\n",
      "Epoch 12/15\n",
      "234/234 [==============================] - 73s 311ms/step - loss: 0.3284 - accuracy: 0.8576 - val_loss: 0.4458 - val_accuracy: 0.8559\n",
      "Epoch 13/15\n",
      "234/234 [==============================] - 72s 308ms/step - loss: 0.3175 - accuracy: 0.8656 - val_loss: 0.3165 - val_accuracy: 0.8836\n",
      "Epoch 14/15\n",
      "234/234 [==============================] - 72s 309ms/step - loss: 0.2877 - accuracy: 0.8773 - val_loss: 0.2737 - val_accuracy: 0.9144\n",
      "Epoch 15/15\n",
      "234/234 [==============================] - 72s 309ms/step - loss: 0.2607 - accuracy: 0.8941 - val_loss: 0.3353 - val_accuracy: 0.8465\n"
     ]
    }
   ],
   "source": [
    "# Part 3 - Training the CNN\n",
    "\n",
    "# Compiling the CNN\n",
    "cnn.compile(optimizer = 'adam', loss = 'hinge', metrics = ['accuracy'])\n",
    "\n",
    "# Training the CNN on the Training set and evaluating it on the Test set\n",
    "r=cnn.fit(x = training_set, validation_data = test_set, epochs = 15)"
   ]
  },
  {
   "cell_type": "code",
   "execution_count": 9,
   "id": "aa4ee26d",
   "metadata": {},
   "outputs": [
    {
     "data": {
      "image/png": "[encoded data removed]",
      "text/plain": [
       "<Figure size 432x288 with 1 Axes>"
      ]
     },
     "metadata": {
      "needs_background": "light"
     },
     "output_type": "display_data"
    },
    {
     "data": {
      "image/png": "[encoded data removed]",
      "text/plain": [
       "<Figure size 432x288 with 1 Axes>"
      ]
     },
     "metadata": {
      "needs_background": "light"
     },
     "output_type": "display_data"
    },
    {
     "data": {
      "text/plain": [
       "<Figure size 432x288 with 0 Axes>"
      ]
     },
     "metadata": {},
     "output_type": "display_data"
    }
   ],
   "source": [
    "# plot the loss\n",
    "import matplotlib.pyplot as plt\n",
    "plt.plot(r.history['loss'], label='train loss', color='lightcoral', marker='D', markeredgecolor='black')\n",
    "plt.plot(r.history['val_loss'], label='val loss', color='#4b0082', linewidth=4,\n",
    "         marker='h', markerfacecolor='lightgreen', markeredgewidth=2,\n",
    "         markersize=12, markevery=3)\n",
    "plt.legend()\n",
    "plt.show()\n",
    "plt.savefig('LossVal_loss')\n",
    "\n",
    "# plot the accuracy\n",
    "plt.plot(r.history['accuracy'], label='train acc', color='lightcoral', marker='D', markeredgecolor='black')\n",
    "plt.plot(r.history['val_accuracy'], label='val acc', color='#4b0082', linewidth=4,\n",
    "         marker='h', markerfacecolor='lightgreen', markeredgewidth=2,\n",
    "         markersize=12, markevery=3)\n",
    "plt.legend()\n",
    "plt.show()\n",
    "plt.savefig('AccVal_acc')"
   ]
  },
  {
   "cell_type": "code",
   "execution_count": null,
   "id": "2e019db7",
   "metadata": {},
   "outputs": [],
   "source": []
  }
 ],
 "metadata": {
  "kernelspec": {
   "display_name": "Python 3 (ipykernel)",
   "language": "python",
   "name": "python3"
  },
  "language_info": {
   "codemirror_mode": {
    "name": "ipython",
    "version": 3
   },
   "file_extension": ".py",
   "mimetype": "text/x-python",
   "name": "python",
   "nbconvert_exporter": "python",
   "pygments_lexer": "ipython3",
   "version": "3.9.7"
  }
 },
 "nbformat": 4,
 "nbformat_minor": 5
}
