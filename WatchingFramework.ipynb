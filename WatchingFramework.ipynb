{
 "cells": [
  {
   "cell_type": "code",
   "execution_count": 3,
   "id": "60c9d83c",
   "metadata": {},
   "outputs": [],
   "source": [
    "import tensorflow as tf\n",
    "from tensorflow.keras.preprocessing.image import ImageDataGenerator"
   ]
  },
  {
   "cell_type": "code",
   "execution_count": 4,
   "id": "57fbe636",
   "metadata": {},
   "outputs": [
    {
     "data": {
      "text/plain": [
       "'2.7.0'"
      ]
     },
     "execution_count": 4,
     "metadata": {},
     "output_type": "execute_result"
    }
   ],
   "source": [
    "tf.__version__"
   ]
  },
  {
   "cell_type": "code",
   "execution_count": 5,
   "id": "72e2ede6",
   "metadata": {},
   "outputs": [],
   "source": [
    "# Part 1 - Data Preprocessing\n",
    "\n",
    "# Preprocessing the Training set\n",
    "train_datagen = ImageDataGenerator(rescale = 1./255,\n",
    "                                   shear_range = 0.2,\n",
    "                                   zoom_range = 0.2,\n",
    "                                   horizontal_flip = True)"
   ]
  },
  {
   "cell_type": "code",
   "execution_count": 6,
   "id": "e1f429d1",
   "metadata": {},
   "outputs": [
    {
     "name": "stdout",
     "output_type": "stream",
     "text": [
      "Found 7480 images belonging to 2 classes.\n",
      "Found 7480 images belonging to 2 classes.\n"
     ]
    }
   ],
   "source": [
    "training_set = train_datagen.flow_from_directory(r\"C:\\Users\\Abhishek Chaubey\\Documents\\WatchingFramework\",\n",
    "                                                 target_size = (64, 64),\n",
    "                                                 batch_size = 32,\n",
    "                                                 class_mode = 'binary')\n",
    "\n",
    "# Preprocessing the Test set\n",
    "test_datagen = ImageDataGenerator(rescale = 1./255)\n",
    "test_set = test_datagen.flow_from_directory(r\"C:\\Users\\Abhishek Chaubey\\Documents\\WatchingFramework\",\n",
    "                                            target_size = (64, 64),\n",
    "                                            batch_size = 32,\n",
    "                                            class_mode = 'binary')"
   ]
  },
  {
   "cell_type": "code",
   "execution_count": 7,
   "id": "55cae6b5",
   "metadata": {},
   "outputs": [],
   "source": [
    "from tensorflow.keras.layers import Conv2D\n",
    "from tensorflow.keras.layers import Dense"
   ]
  },
  {
   "cell_type": "code",
   "execution_count": 8,
   "id": "77e4bd56",
   "metadata": {},
   "outputs": [],
   "source": [
    "from tensorflow.keras.regularizers import l2"
   ]
  },
  {
   "cell_type": "code",
   "execution_count": 9,
   "id": "9272ab77",
   "metadata": {},
   "outputs": [],
   "source": [
    "# Part 2 - Building the CNN\n",
    "# Initialising the CNN\n",
    "cnn = tf.keras.models.Sequential()\n",
    "\n",
    "# Step 1 - Convolution\n",
    "cnn.add(tf.keras.layers.Conv2D(filters=32,padding=\"same\",kernel_size=3, activation='relu', strides=2, input_shape=[64, 64, 3]))\n",
    "\n",
    "# Step 2 - Pooling\n",
    "cnn.add(tf.keras.layers.MaxPool2D(pool_size=2, strides=2))\n",
    "\n",
    "# Adding a second convolutional layer\n",
    "cnn.add(tf.keras.layers.Conv2D(filters=32,padding='same',kernel_size=3, activation='relu'))\n",
    "cnn.add(tf.keras.layers.MaxPool2D(pool_size=2, strides=2))\n",
    "\n",
    "# Step 3 - Flattening\n",
    "cnn.add(tf.keras.layers.Flatten())\n",
    "\n",
    "# Step 4 - Full Connection\n",
    "cnn.add(tf.keras.layers.Dense(units=128, activation='relu'))\n",
    "\n",
    "# Step 5 - Output Layer\n",
    "#cnn.add(tf.keras.layers.Dense(units=1, activation='sigmoid'))\n",
    "## For Binary Classification\n",
    "cnn.add(Dense(1, kernel_regularizer=tf.keras.regularizers.l2(0.01),activation\n",
    "             ='linear'))"
   ]
  },
  {
   "cell_type": "code",
   "execution_count": 10,
   "id": "c8dc73e4",
   "metadata": {},
   "outputs": [
    {
     "name": "stdout",
     "output_type": "stream",
     "text": [
      "Model: \"sequential\"\n",
      "_________________________________________________________________\n",
      " Layer (type)                Output Shape              Param #   \n",
      "=================================================================\n",
      " conv2d (Conv2D)             (None, 32, 32, 32)        896       \n",
      "                                                                 \n",
      " max_pooling2d (MaxPooling2D  (None, 16, 16, 32)       0         \n",
      " )                                                               \n",
      "                                                                 \n",
      " conv2d_1 (Conv2D)           (None, 16, 16, 32)        9248      \n",
      "                                                                 \n",
      " max_pooling2d_1 (MaxPooling  (None, 8, 8, 32)         0         \n",
      " 2D)                                                             \n",
      "                                                                 \n",
      " flatten (Flatten)           (None, 2048)              0         \n",
      "                                                                 \n",
      " dense (Dense)               (None, 128)               262272    \n",
      "                                                                 \n",
      " dense_1 (Dense)             (None, 1)                 129       \n",
      "                                                                 \n",
      "=================================================================\n",
      "Total params: 272,545\n",
      "Trainable params: 272,545\n",
      "Non-trainable params: 0\n",
      "_________________________________________________________________\n"
     ]
    }
   ],
   "source": [
    "cnn.summary()"
   ]
  },
  {
   "cell_type": "code",
   "execution_count": 11,
   "id": "2595d90a",
   "metadata": {},
   "outputs": [
    {
     "name": "stdout",
     "output_type": "stream",
     "text": [
      "Epoch 1/15\n",
      "234/234 [==============================] - 124s 524ms/step - loss: 1.0110 - accuracy: 0.5059 - val_loss: 1.0062 - val_accuracy: 0.5000\n",
      "Epoch 2/15\n",
      "234/234 [==============================] - 123s 528ms/step - loss: 1.0057 - accuracy: 0.5000 - val_loss: 1.0016 - val_accuracy: 0.5000\n",
      "Epoch 3/15\n",
      "234/234 [==============================] - 124s 530ms/step - loss: 1.0028 - accuracy: 0.5024 - val_loss: 1.0004 - val_accuracy: 0.5000\n",
      "Epoch 4/15\n",
      "234/234 [==============================] - 123s 525ms/step - loss: 1.0022 - accuracy: 0.5001 - val_loss: 0.9974 - val_accuracy: 0.4999\n",
      "Epoch 5/15\n",
      "234/234 [==============================] - 123s 527ms/step - loss: 0.9989 - accuracy: 0.5001 - val_loss: 0.9965 - val_accuracy: 0.5004\n",
      "Epoch 6/15\n",
      "234/234 [==============================] - 121s 520ms/step - loss: 0.9983 - accuracy: 0.5029 - val_loss: 0.9941 - val_accuracy: 0.5020\n",
      "Epoch 7/15\n",
      "234/234 [==============================] - 125s 535ms/step - loss: 0.9966 - accuracy: 0.5047 - val_loss: 0.9895 - val_accuracy: 0.5047\n",
      "Epoch 8/15\n",
      "234/234 [==============================] - 125s 535ms/step - loss: 0.9978 - accuracy: 0.5032 - val_loss: 0.9943 - val_accuracy: 0.5008\n",
      "Epoch 9/15\n",
      "234/234 [==============================] - 126s 538ms/step - loss: 0.9918 - accuracy: 0.5063 - val_loss: 0.9768 - val_accuracy: 0.5156\n",
      "Epoch 10/15\n",
      "234/234 [==============================] - 125s 535ms/step - loss: 0.9856 - accuracy: 0.5104 - val_loss: 0.9761 - val_accuracy: 0.5207\n",
      "Epoch 11/15\n",
      "234/234 [==============================] - 126s 541ms/step - loss: 0.9899 - accuracy: 0.5071 - val_loss: 0.9964 - val_accuracy: 0.5035\n",
      "Epoch 12/15\n",
      "234/234 [==============================] - 125s 536ms/step - loss: 0.9804 - accuracy: 0.5154 - val_loss: 0.9648 - val_accuracy: 0.5131\n",
      "Epoch 13/15\n",
      "234/234 [==============================] - 124s 532ms/step - loss: 0.9804 - accuracy: 0.5144 - val_loss: 0.9626 - val_accuracy: 0.5275\n",
      "Epoch 14/15\n",
      "234/234 [==============================] - 126s 541ms/step - loss: 0.9726 - accuracy: 0.5126 - val_loss: 0.9537 - val_accuracy: 0.5221\n",
      "Epoch 15/15\n",
      "234/234 [==============================] - 126s 538ms/step - loss: 0.9660 - accuracy: 0.5151 - val_loss: 0.9511 - val_accuracy: 0.5307\n"
     ]
    }
   ],
   "source": [
    "# Part 3 - Training the CNN\n",
    "\n",
    "# Compiling the CNN\n",
    "cnn.compile(optimizer = 'adam', loss = 'hinge', metrics = ['accuracy'])\n",
    "\n",
    "# Training the CNN on the Training set and evaluating it on the Test set\n",
    "r=cnn.fit(x = training_set, validation_data = test_set, epochs = 15)"
   ]
  },
  {
   "cell_type": "code",
   "execution_count": 26,
   "id": "81e2344f",
   "metadata": {},
   "outputs": [
    {
     "data": {
      "image/png": "[encoded data removed]",
      "text/plain": [
       "<Figure size 432x288 with 1 Axes>"
      ]
     },
     "metadata": {
      "needs_background": "light"
     },
     "output_type": "display_data"
    },
    {
     "data": {
      "image/png": "[encoded data removed]",
      "text/plain": [
       "<Figure size 432x288 with 1 Axes>"
      ]
     },
     "metadata": {
      "needs_background": "light"
     },
     "output_type": "display_data"
    },
    {
     "data": {
      "text/plain": [
       "<Figure size 432x288 with 0 Axes>"
      ]
     },
     "metadata": {},
     "output_type": "display_data"
    }
   ],
   "source": [
    "# plot the loss\n",
    "import matplotlib.pyplot as plt\n",
    "plt.plot(r.history['loss'], label='train loss', color='lightcoral', marker='D', markeredgecolor='black')\n",
    "plt.plot(r.history['val_loss'], label='val loss', color='#4b0082', linewidth=4,\n",
    "         marker='h', markerfacecolor='lightgreen', markeredgewidth=2,\n",
    "         markersize=12, markevery=3)\n",
    "plt.legend()\n",
    "plt.show()\n",
    "plt.savefig('LossVal_loss')\n",
    "\n",
    "# plot the accuracy\n",
    "plt.plot(r.history['accuracy'], label='train acc', color='lightcoral', marker='D', markeredgecolor='black')\n",
    "plt.plot(r.history['val_accuracy'], label='val acc',  color='#4b0082', linewidth=4,\n",
    "         marker='h', markerfacecolor='lightgreen', markeredgewidth=2,\n",
    "         markersize=12, markevery=3)\n",
    "plt.legend()\n",
    "plt.show()\n",
    "plt.savefig('AccVal_acc')\n",
    "\n"
   ]
  },
  {
   "cell_type": "code",
   "execution_count": null,
   "id": "ad7dc738",
   "metadata": {},
   "outputs": [],
   "source": []
  }
 ],
 "metadata": {
  "kernelspec": {
   "display_name": "Python 3 (ipykernel)",
   "language": "python",
   "name": "python3"
  },
  "language_info": {
   "codemirror_mode": {
    "name": "ipython",
    "version": 3
   },
   "file_extension": ".py",
   "mimetype": "text/x-python",
   "name": "python",
   "nbconvert_exporter": "python",
   "pygments_lexer": "ipython3",
   "version": "3.9.7"
  }
 },
 "nbformat": 4,
 "nbformat_minor": 5
}
